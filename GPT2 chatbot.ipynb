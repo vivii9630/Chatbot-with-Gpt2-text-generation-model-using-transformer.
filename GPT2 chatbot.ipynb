{
 "cells": [
  {
   "cell_type": "code",
   "execution_count": 1,
   "id": "5ed40749",
   "metadata": {},
   "outputs": [],
   "source": [
    "import transformers\n",
    "from transformers import GPT2LMHeadModel, GPT2Tokenizer"
   ]
  },
  {
   "cell_type": "code",
   "execution_count": 2,
   "id": "d5ae04dc",
   "metadata": {},
   "outputs": [],
   "source": [
    "tokenizer = GPT2Tokenizer.from_pretrained('gpt2')\n",
    "model = GPT2LMHeadModel.from_pretrained('gpt2')"
   ]
  },
  {
   "cell_type": "code",
   "execution_count": 3,
   "id": "3d8461e9",
   "metadata": {},
   "outputs": [],
   "source": [
    "import pyttsx3\n",
    "import speech_recognition as sr\n",
    "import random\n",
    "\n",
    "def talk(string):\n",
    "    engine = pyttsx3.init('sapi5')\n",
    "    voices = engine.getProperty('voices')\n",
    "    engine.setProperty('voice', voices[1].id)\n",
    "    engine.say(string)\n",
    "    engine.runAndWait()\n",
    "def questi():\n",
    "    r=sr.Recognizer()\n",
    "    with sr.Microphone() as source:\n",
    "        read = r.listen(source)\n",
    "        text = r.recognize_google(read)\n",
    "        return text"
   ]
  },
  {
   "cell_type": "code",
   "execution_count": null,
   "id": "4210547d",
   "metadata": {},
   "outputs": [],
   "source": [
    "goodbyetext = ['Thanks for contacting me', 'Have a nice day honey', 'Thank you']\n",
    "while True:\n",
    "    user_voice = questi().lower()\n",
    "    tokens = tokenizer.encode(user_voice, return_tensors = 'pt')\n",
    "    output = model.generate(tokens, do_sample=True ,max_length = 300, temperature = 0.23)\n",
    "    texts = tokenizer.decode(output[0], skip_special_tokens = True)\n",
    "    talk(texts)\n",
    "    print(texts)\n",
    "    if user_voice in goodbyetext:\n",
    "        talk(random.choices(goodbyetext))\n",
    "        #print(random.choices(goodbyetext))\n",
    "        break    \n",
    "    \n"
   ]
  },
  {
   "cell_type": "code",
   "execution_count": null,
   "id": "a911c0bb",
   "metadata": {},
   "outputs": [],
   "source": [
    "\n"
   ]
  },
  {
   "cell_type": "code",
   "execution_count": null,
   "id": "7fb60992",
   "metadata": {},
   "outputs": [],
   "source": []
  }
 ],
 "metadata": {
  "kernelspec": {
   "display_name": "Python 3",
   "language": "python",
   "name": "python3"
  },
  "language_info": {
   "codemirror_mode": {
    "name": "ipython",
    "version": 3
   },
   "file_extension": ".py",
   "mimetype": "text/x-python",
   "name": "python",
   "nbconvert_exporter": "python",
   "pygments_lexer": "ipython3",
   "version": "3.7.10"
  }
 },
 "nbformat": 4,
 "nbformat_minor": 5
}
